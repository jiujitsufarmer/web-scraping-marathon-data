{
 "cells": [
  {
   "cell_type": "code",
   "execution_count": 1,
   "metadata": {},
   "outputs": [],
   "source": [
    "import requests\n",
    "from bs4 import BeautifulSoup\n",
    "import pandas as pd"
   ]
  },
  {
   "cell_type": "markdown",
   "metadata": {},
   "source": [
    "## 2019 marathon"
   ]
  },
  {
   "cell_type": "code",
   "execution_count": 2,
   "metadata": {},
   "outputs": [
    {
     "name": "stdout",
     "output_type": "stream",
     "text": [
      "<title> | Rock n Roll Marathon Series | Marathon Half Marathon Events</title>\n"
     ]
    },
    {
     "data": {
      "text/html": [
       "<div>\n",
       "<style scoped>\n",
       "    .dataframe tbody tr th:only-of-type {\n",
       "        vertical-align: middle;\n",
       "    }\n",
       "\n",
       "    .dataframe tbody tr th {\n",
       "        vertical-align: top;\n",
       "    }\n",
       "\n",
       "    .dataframe thead th {\n",
       "        text-align: right;\n",
       "    }\n",
       "</style>\n",
       "<table border=\"1\" class=\"dataframe\">\n",
       "  <thead>\n",
       "    <tr style=\"text-align: right;\">\n",
       "      <th></th>\n",
       "      <th>Overall</th>\n",
       "      <th>Bib</th>\n",
       "      <th>Name</th>\n",
       "      <th>Time</th>\n",
       "    </tr>\n",
       "  </thead>\n",
       "  <tbody>\n",
       "    <tr>\n",
       "      <td>0</td>\n",
       "      <td>1</td>\n",
       "      <td>30001</td>\n",
       "      <td>Travis Peruski</td>\n",
       "      <td>01:37:54</td>\n",
       "    </tr>\n",
       "    <tr>\n",
       "      <td>1</td>\n",
       "      <td>2</td>\n",
       "      <td>1</td>\n",
       "      <td>Scott Wietecha</td>\n",
       "      <td>02:34:59</td>\n",
       "    </tr>\n",
       "  </tbody>\n",
       "</table>\n",
       "</div>"
      ],
      "text/plain": [
       "   Overall    Bib            Name      Time\n",
       "0        1  30001  Travis Peruski  01:37:54\n",
       "1        2      1  Scott Wietecha  02:34:59"
      ]
     },
     "execution_count": 2,
     "metadata": {},
     "output_type": "execute_result"
    }
   ],
   "source": [
    "marathon_2019 = 'https://www.runrocknroll.com/Events/Nashville/The-Races/Marathon/2019-Results?gender=&agegroup=&bib=&firstname=&lastname=&page=1'\n",
    "marathon_2019 = requests.post(marathon_2019)\n",
    "marathon_2019.status_code\n",
    "marathon_2019 = BeautifulSoup(marathon_2019.content, 'lxml')\n",
    "print(marathon_2019.title)\n",
    "marathon_2019_tables = marathon_2019.find_all('table', attrs = {'class': 'table table-responsive table-bordered'})\n",
    "type(marathon_2019_tables)\n",
    "len(marathon_2019_tables)\n",
    "marathon_2019_list = pd.read_html(str(marathon_2019_tables[0])) # a list of dataframes\n",
    "len(marathon_2019_list)\n",
    "type(marathon_2019_list)\n",
    "marathon_2019 = marathon_2019_list[0]  # get the first df from the list\n",
    "marathon_2019.head(2)"
   ]
  },
  {
   "cell_type": "code",
   "execution_count": 3,
   "metadata": {
    "scrolled": true
   },
   "outputs": [
    {
     "data": {
      "text/html": [
       "<div>\n",
       "<style scoped>\n",
       "    .dataframe tbody tr th:only-of-type {\n",
       "        vertical-align: middle;\n",
       "    }\n",
       "\n",
       "    .dataframe tbody tr th {\n",
       "        vertical-align: top;\n",
       "    }\n",
       "\n",
       "    .dataframe thead th {\n",
       "        text-align: right;\n",
       "    }\n",
       "</style>\n",
       "<table border=\"1\" class=\"dataframe\">\n",
       "  <thead>\n",
       "    <tr style=\"text-align: right;\">\n",
       "      <th></th>\n",
       "      <th>Overall</th>\n",
       "      <th>Bib</th>\n",
       "      <th>Name</th>\n",
       "      <th>Time</th>\n",
       "    </tr>\n",
       "  </thead>\n",
       "  <tbody>\n",
       "    <tr>\n",
       "      <td>0</td>\n",
       "      <td>1</td>\n",
       "      <td>30001</td>\n",
       "      <td>Travis Peruski</td>\n",
       "      <td>01:37:54</td>\n",
       "    </tr>\n",
       "    <tr>\n",
       "      <td>1</td>\n",
       "      <td>2</td>\n",
       "      <td>1</td>\n",
       "      <td>Scott Wietecha</td>\n",
       "      <td>02:34:59</td>\n",
       "    </tr>\n",
       "  </tbody>\n",
       "</table>\n",
       "</div>"
      ],
      "text/plain": [
       "   Overall    Bib            Name      Time\n",
       "0        1  30001  Travis Peruski  01:37:54\n",
       "1        2      1  Scott Wietecha  02:34:59"
      ]
     },
     "execution_count": 3,
     "metadata": {},
     "output_type": "execute_result"
    }
   ],
   "source": [
    "for i in range(2,114):\n",
    "    marathon_2019\n",
    "    page_str = str(i)\n",
    "    marathon_2019_url = 'https://www.runrocknroll.com/Events/Nashville/The-Races/Marathon/2019-Results?gender=&agegroup=&bib=&firstname=&lastname=&page=' + page_str\n",
    "    marathon_2019_response = requests.post(marathon_2019_url)\n",
    "    marathon_2019_bs = BeautifulSoup(marathon_2019_response.content, 'lxml')\n",
    "    marathon_2019_tables = marathon_2019_bs.find_all('table', attrs = {'class': 'table table-responsive table-bordered'})\n",
    "    marathon_2019_list = pd.read_html(str(marathon_2019_tables[0]))\n",
    "    marathon_2019_page = marathon_2019_list[0]\n",
    "    marathon_2019 = marathon_2019.append(marathon_2019_page, ignore_index = True)\n",
    "marathon_2019.head(2)"
   ]
  },
  {
   "cell_type": "markdown",
   "metadata": {},
   "source": [
    "## 2018 marathon"
   ]
  },
  {
   "cell_type": "code",
   "execution_count": 4,
   "metadata": {},
   "outputs": [
    {
     "name": "stdout",
     "output_type": "stream",
     "text": [
      "<title> | Rock n Roll Marathon Series | Marathon Half Marathon Events</title>\n"
     ]
    },
    {
     "data": {
      "text/html": [
       "<div>\n",
       "<style scoped>\n",
       "    .dataframe tbody tr th:only-of-type {\n",
       "        vertical-align: middle;\n",
       "    }\n",
       "\n",
       "    .dataframe tbody tr th {\n",
       "        vertical-align: top;\n",
       "    }\n",
       "\n",
       "    .dataframe thead th {\n",
       "        text-align: right;\n",
       "    }\n",
       "</style>\n",
       "<table border=\"1\" class=\"dataframe\">\n",
       "  <thead>\n",
       "    <tr style=\"text-align: right;\">\n",
       "      <th></th>\n",
       "      <th>Overall</th>\n",
       "      <th>Bib</th>\n",
       "      <th>Name</th>\n",
       "      <th>Time</th>\n",
       "    </tr>\n",
       "  </thead>\n",
       "  <tbody>\n",
       "    <tr>\n",
       "      <td>0</td>\n",
       "      <td>1</td>\n",
       "      <td>1</td>\n",
       "      <td>Scott Wietecha</td>\n",
       "      <td>02:28:16</td>\n",
       "    </tr>\n",
       "    <tr>\n",
       "      <td>1</td>\n",
       "      <td>2</td>\n",
       "      <td>3</td>\n",
       "      <td>Garang Madut</td>\n",
       "      <td>02:29:52</td>\n",
       "    </tr>\n",
       "    <tr>\n",
       "      <td>2</td>\n",
       "      <td>3</td>\n",
       "      <td>33442</td>\n",
       "      <td>Kevin Fink</td>\n",
       "      <td>02:38:59</td>\n",
       "    </tr>\n",
       "    <tr>\n",
       "      <td>3</td>\n",
       "      <td>4</td>\n",
       "      <td>33441</td>\n",
       "      <td>Andrew Hodges</td>\n",
       "      <td>02:43:59</td>\n",
       "    </tr>\n",
       "    <tr>\n",
       "      <td>4</td>\n",
       "      <td>5</td>\n",
       "      <td>30028</td>\n",
       "      <td>Nicholas Aubert</td>\n",
       "      <td>02:48:11</td>\n",
       "    </tr>\n",
       "  </tbody>\n",
       "</table>\n",
       "</div>"
      ],
      "text/plain": [
       "   Overall    Bib             Name      Time\n",
       "0        1      1   Scott Wietecha  02:28:16\n",
       "1        2      3     Garang Madut  02:29:52\n",
       "2        3  33442       Kevin Fink  02:38:59\n",
       "3        4  33441    Andrew Hodges  02:43:59\n",
       "4        5  30028  Nicholas Aubert  02:48:11"
      ]
     },
     "execution_count": 4,
     "metadata": {},
     "output_type": "execute_result"
    }
   ],
   "source": [
    "marathon_2018 = 'https://www.runrocknroll.com/Events/Nashville/The-Races/Marathon/2018-Results?gender=&agegroup=&bib=&firstname=&lastname=&page=1'\n",
    "marathon_2018 = requests.post(marathon_2018)\n",
    "marathon_2018.status_code\n",
    "marathon_2018 = BeautifulSoup(marathon_2018.content, 'lxml')\n",
    "print(marathon_2018.title)\n",
    "marathon_2018_tables = marathon_2018.find_all('table', attrs = {'class': 'table table-responsive table-bordered'})\n",
    "type(marathon_2018_tables)\n",
    "len(marathon_2018_tables)\n",
    "marathon_2018_list = pd.read_html(str(marathon_2018_tables[0])) # a list of dataframes\n",
    "len(marathon_2018_list)\n",
    "type(marathon_2018_list)\n",
    "marathon_2018 = marathon_2018_list[0]  # get the first df from the list\n",
    "marathon_2018.head()"
   ]
  },
  {
   "cell_type": "code",
   "execution_count": 5,
   "metadata": {},
   "outputs": [
    {
     "data": {
      "text/html": [
       "<div>\n",
       "<style scoped>\n",
       "    .dataframe tbody tr th:only-of-type {\n",
       "        vertical-align: middle;\n",
       "    }\n",
       "\n",
       "    .dataframe tbody tr th {\n",
       "        vertical-align: top;\n",
       "    }\n",
       "\n",
       "    .dataframe thead th {\n",
       "        text-align: right;\n",
       "    }\n",
       "</style>\n",
       "<table border=\"1\" class=\"dataframe\">\n",
       "  <thead>\n",
       "    <tr style=\"text-align: right;\">\n",
       "      <th></th>\n",
       "      <th>Overall</th>\n",
       "      <th>Bib</th>\n",
       "      <th>Name</th>\n",
       "      <th>Time</th>\n",
       "    </tr>\n",
       "  </thead>\n",
       "  <tbody>\n",
       "    <tr>\n",
       "      <td>0</td>\n",
       "      <td>1</td>\n",
       "      <td>1</td>\n",
       "      <td>Scott Wietecha</td>\n",
       "      <td>02:28:16</td>\n",
       "    </tr>\n",
       "    <tr>\n",
       "      <td>1</td>\n",
       "      <td>2</td>\n",
       "      <td>3</td>\n",
       "      <td>Garang Madut</td>\n",
       "      <td>02:29:52</td>\n",
       "    </tr>\n",
       "  </tbody>\n",
       "</table>\n",
       "</div>"
      ],
      "text/plain": [
       "   Overall  Bib            Name      Time\n",
       "0        1    1  Scott Wietecha  02:28:16\n",
       "1        2    3    Garang Madut  02:29:52"
      ]
     },
     "execution_count": 5,
     "metadata": {},
     "output_type": "execute_result"
    }
   ],
   "source": [
    "for i in range(2,86):\n",
    "    marathon_2018\n",
    "    page_str = str(i)\n",
    "    marathon_2018_url = 'https://www.runrocknroll.com/Events/Nashville/The-Races/Marathon/2018-Results?gender=&agegroup=&bib=&firstname=&lastname=&page=' + page_str\n",
    "    marathon_2018_response = requests.post(marathon_2018_url)\n",
    "    marathon_2018_bs = BeautifulSoup(marathon_2018_response.content, 'lxml')\n",
    "    marathon_2018_tables = marathon_2018_bs.find_all('table', attrs = {'class': 'table table-responsive table-bordered'})\n",
    "    marathon_2018_list = pd.read_html(str(marathon_2018_tables[0]))\n",
    "    marathon_2018_page = marathon_2018_list[0]\n",
    "    marathon_2018 = marathon_2018.append(marathon_2018_page, ignore_index = True)\n",
    "marathon_2018.head(2)"
   ]
  },
  {
   "cell_type": "markdown",
   "metadata": {},
   "source": [
    "## 2017 marathon"
   ]
  },
  {
   "cell_type": "code",
   "execution_count": 6,
   "metadata": {},
   "outputs": [
    {
     "name": "stdout",
     "output_type": "stream",
     "text": [
      "<title> | Rock n Roll Marathon Series | Marathon Half Marathon Events</title>\n"
     ]
    },
    {
     "data": {
      "text/html": [
       "<div>\n",
       "<style scoped>\n",
       "    .dataframe tbody tr th:only-of-type {\n",
       "        vertical-align: middle;\n",
       "    }\n",
       "\n",
       "    .dataframe tbody tr th {\n",
       "        vertical-align: top;\n",
       "    }\n",
       "\n",
       "    .dataframe thead th {\n",
       "        text-align: right;\n",
       "    }\n",
       "</style>\n",
       "<table border=\"1\" class=\"dataframe\">\n",
       "  <thead>\n",
       "    <tr style=\"text-align: right;\">\n",
       "      <th></th>\n",
       "      <th>Overall</th>\n",
       "      <th>Bib</th>\n",
       "      <th>Name</th>\n",
       "      <th>Time</th>\n",
       "    </tr>\n",
       "  </thead>\n",
       "  <tbody>\n",
       "    <tr>\n",
       "      <td>0</td>\n",
       "      <td>1</td>\n",
       "      <td>1</td>\n",
       "      <td>Scott Wietecha</td>\n",
       "      <td>02:40:25</td>\n",
       "    </tr>\n",
       "    <tr>\n",
       "      <td>1</td>\n",
       "      <td>2</td>\n",
       "      <td>1145</td>\n",
       "      <td>Ryan Regnier</td>\n",
       "      <td>02:56:28</td>\n",
       "    </tr>\n",
       "  </tbody>\n",
       "</table>\n",
       "</div>"
      ],
      "text/plain": [
       "   Overall   Bib            Name      Time\n",
       "0        1     1  Scott Wietecha  02:40:25\n",
       "1        2  1145    Ryan Regnier  02:56:28"
      ]
     },
     "execution_count": 6,
     "metadata": {},
     "output_type": "execute_result"
    }
   ],
   "source": [
    "marathon_2017 = 'https://www.runrocknroll.com/Events/Nashville/The-Races/Marathon/2017-Results?gender=&agegroup=&bib=&firstname=&lastname=&page=1'\n",
    "marathon_2017 = requests.post(marathon_2017)\n",
    "marathon_2017.status_code\n",
    "marathon_2017 = BeautifulSoup(marathon_2017.content, 'lxml')\n",
    "print(marathon_2017.title)\n",
    "marathon_2017_tables = marathon_2017.find_all('table', attrs = {'class': 'table table-responsive table-bordered'})\n",
    "type(marathon_2017_tables)\n",
    "len(marathon_2017_tables)\n",
    "marathon_2017_list = pd.read_html(str(marathon_2017_tables[0])) # a list of dataframes\n",
    "len(marathon_2017_list)\n",
    "type(marathon_2017_list)\n",
    "marathon_2017 = marathon_2017_list[0]  # get the first df from the list\n",
    "marathon_2017.head(2)"
   ]
  },
  {
   "cell_type": "code",
   "execution_count": 7,
   "metadata": {},
   "outputs": [
    {
     "data": {
      "text/html": [
       "<div>\n",
       "<style scoped>\n",
       "    .dataframe tbody tr th:only-of-type {\n",
       "        vertical-align: middle;\n",
       "    }\n",
       "\n",
       "    .dataframe tbody tr th {\n",
       "        vertical-align: top;\n",
       "    }\n",
       "\n",
       "    .dataframe thead th {\n",
       "        text-align: right;\n",
       "    }\n",
       "</style>\n",
       "<table border=\"1\" class=\"dataframe\">\n",
       "  <thead>\n",
       "    <tr style=\"text-align: right;\">\n",
       "      <th></th>\n",
       "      <th>Overall</th>\n",
       "      <th>Bib</th>\n",
       "      <th>Name</th>\n",
       "      <th>Time</th>\n",
       "    </tr>\n",
       "  </thead>\n",
       "  <tbody>\n",
       "    <tr>\n",
       "      <td>0</td>\n",
       "      <td>1</td>\n",
       "      <td>1</td>\n",
       "      <td>Scott Wietecha</td>\n",
       "      <td>02:40:25</td>\n",
       "    </tr>\n",
       "    <tr>\n",
       "      <td>1</td>\n",
       "      <td>2</td>\n",
       "      <td>1145</td>\n",
       "      <td>Ryan Regnier</td>\n",
       "      <td>02:56:28</td>\n",
       "    </tr>\n",
       "  </tbody>\n",
       "</table>\n",
       "</div>"
      ],
      "text/plain": [
       "   Overall   Bib            Name      Time\n",
       "0        1     1  Scott Wietecha  02:40:25\n",
       "1        2  1145    Ryan Regnier  02:56:28"
      ]
     },
     "execution_count": 7,
     "metadata": {},
     "output_type": "execute_result"
    }
   ],
   "source": [
    "for i in range(2,148):\n",
    "    marathon_2017\n",
    "    page_str = str(i)\n",
    "    marathon_2017_url = 'https://www.runrocknroll.com/Events/Nashville/The-Races/Marathon/2017-Results?gender=&agegroup=&bib=&firstname=&lastname=&page=' + page_str\n",
    "    marathon_2017_response = requests.post(marathon_2017_url)\n",
    "    marathon_2017_bs = BeautifulSoup(marathon_2017_response.content, 'lxml')\n",
    "    marathon_2017_tables = marathon_2017_bs.find_all('table', attrs = {'class': 'table table-responsive table-bordered'})\n",
    "    marathon_2017_list = pd.read_html(str(marathon_2017_tables[0]))\n",
    "    marathon_2017_page = marathon_2017_list[0]\n",
    "    marathon_2017 = marathon_2017.append(marathon_2017_page, ignore_index = True)\n",
    "marathon_2017.head(2)"
   ]
  },
  {
   "cell_type": "markdown",
   "metadata": {},
   "source": [
    "## 2016 marathon"
   ]
  },
  {
   "cell_type": "code",
   "execution_count": 8,
   "metadata": {},
   "outputs": [
    {
     "name": "stdout",
     "output_type": "stream",
     "text": [
      "<title> | Rock n Roll Marathon Series | Marathon Half Marathon Events</title>\n"
     ]
    },
    {
     "data": {
      "text/html": [
       "<div>\n",
       "<style scoped>\n",
       "    .dataframe tbody tr th:only-of-type {\n",
       "        vertical-align: middle;\n",
       "    }\n",
       "\n",
       "    .dataframe tbody tr th {\n",
       "        vertical-align: top;\n",
       "    }\n",
       "\n",
       "    .dataframe thead th {\n",
       "        text-align: right;\n",
       "    }\n",
       "</style>\n",
       "<table border=\"1\" class=\"dataframe\">\n",
       "  <thead>\n",
       "    <tr style=\"text-align: right;\">\n",
       "      <th></th>\n",
       "      <th>Overall</th>\n",
       "      <th>Bib</th>\n",
       "      <th>Name</th>\n",
       "      <th>Time</th>\n",
       "    </tr>\n",
       "  </thead>\n",
       "  <tbody>\n",
       "    <tr>\n",
       "      <td>0</td>\n",
       "      <td>1</td>\n",
       "      <td>1</td>\n",
       "      <td>Scott Wietecha</td>\n",
       "      <td>02:25:42</td>\n",
       "    </tr>\n",
       "    <tr>\n",
       "      <td>1</td>\n",
       "      <td>2</td>\n",
       "      <td>3</td>\n",
       "      <td>Brian Shelton</td>\n",
       "      <td>02:34:43</td>\n",
       "    </tr>\n",
       "  </tbody>\n",
       "</table>\n",
       "</div>"
      ],
      "text/plain": [
       "   Overall  Bib            Name      Time\n",
       "0        1    1  Scott Wietecha  02:25:42\n",
       "1        2    3   Brian Shelton  02:34:43"
      ]
     },
     "execution_count": 8,
     "metadata": {},
     "output_type": "execute_result"
    }
   ],
   "source": [
    "marathon_2016 = 'https://www.runrocknroll.com/Events/Nashville/The-Races/Marathon/2016-Results?gender=&agegroup=&bib=&firstname=&lastname=&page=1'\n",
    "marathon_2016 = requests.post(marathon_2016)\n",
    "marathon_2016.status_code\n",
    "marathon_2016 = BeautifulSoup(marathon_2016.content, 'lxml')\n",
    "print(marathon_2016.title)\n",
    "marathon_2016_tables = marathon_2016.find_all('table', attrs = {'class': 'table table-responsive table-bordered'})\n",
    "type(marathon_2016_tables)\n",
    "len(marathon_2016_tables)\n",
    "marathon_2016_list = pd.read_html(str(marathon_2016_tables[0])) # a list of dataframes\n",
    "len(marathon_2016_list)\n",
    "type(marathon_2016_list)\n",
    "marathon_2016 = marathon_2016_list[0]  # get the first df from the list\n",
    "marathon_2016.head(2)"
   ]
  },
  {
   "cell_type": "code",
   "execution_count": 9,
   "metadata": {},
   "outputs": [
    {
     "data": {
      "text/html": [
       "<div>\n",
       "<style scoped>\n",
       "    .dataframe tbody tr th:only-of-type {\n",
       "        vertical-align: middle;\n",
       "    }\n",
       "\n",
       "    .dataframe tbody tr th {\n",
       "        vertical-align: top;\n",
       "    }\n",
       "\n",
       "    .dataframe thead th {\n",
       "        text-align: right;\n",
       "    }\n",
       "</style>\n",
       "<table border=\"1\" class=\"dataframe\">\n",
       "  <thead>\n",
       "    <tr style=\"text-align: right;\">\n",
       "      <th></th>\n",
       "      <th>Overall</th>\n",
       "      <th>Bib</th>\n",
       "      <th>Name</th>\n",
       "      <th>Time</th>\n",
       "    </tr>\n",
       "  </thead>\n",
       "  <tbody>\n",
       "    <tr>\n",
       "      <td>0</td>\n",
       "      <td>1</td>\n",
       "      <td>1</td>\n",
       "      <td>Scott Wietecha</td>\n",
       "      <td>02:25:42</td>\n",
       "    </tr>\n",
       "    <tr>\n",
       "      <td>1</td>\n",
       "      <td>2</td>\n",
       "      <td>3</td>\n",
       "      <td>Brian Shelton</td>\n",
       "      <td>02:34:43</td>\n",
       "    </tr>\n",
       "  </tbody>\n",
       "</table>\n",
       "</div>"
      ],
      "text/plain": [
       "  Overall Bib            Name      Time\n",
       "0       1   1  Scott Wietecha  02:25:42\n",
       "1       2   3   Brian Shelton  02:34:43"
      ]
     },
     "execution_count": 9,
     "metadata": {},
     "output_type": "execute_result"
    }
   ],
   "source": [
    "for i in range(2,155):\n",
    "    marathon_2016\n",
    "    page_str = str(i)\n",
    "    marathon_2016_url = 'https://www.runrocknroll.com/Events/Nashville/The-Races/Marathon/2018-Results?gender=&agegroup=&bib=&firstname=&lastname=&page=' + page_str\n",
    "    marathon_2016_response = requests.post(marathon_2016_url)\n",
    "    marathon_2016_bs = BeautifulSoup(marathon_2016_response.content, 'lxml')\n",
    "    marathon_2016_tables = marathon_2016_bs.find_all('table', attrs = {'class': 'table table-responsive table-bordered'})\n",
    "    marathon_2016_list = pd.read_html(str(marathon_2016_tables[0]))\n",
    "    marathon_2016_page = marathon_2016_list[0]\n",
    "    marathon_2016 = marathon_2016.append(marathon_2016_page, ignore_index = True)\n",
    "marathon_2016.head(2)"
   ]
  },
  {
   "cell_type": "markdown",
   "metadata": {},
   "source": [
    "## 2019 half marathon"
   ]
  },
  {
   "cell_type": "code",
   "execution_count": 22,
   "metadata": {},
   "outputs": [],
   "source": [
    "# half_marathon_2019 = 'https://www.runrocknroll.com/Events/Nashville/The-Races/Half-Marathon/2019-Results?gender=&agegroup=&bib=&firstname=&lastname=&page=1'\n",
    "# half_marathon_2019 = requests.post(half_marathon_2019)\n",
    "# half_marathon_2019.status_code\n",
    "# half_marathon_2019 = BeautifulSoup(half_marathon_2019.content, 'lxml')\n",
    "# print(half_marathon_2019.title)\n",
    "# half_marathon_2019_tables = half_marathon_2019.find_all('table', attrs = {'class': 'table table-responsive table-bordered'})\n",
    "# type(half_marathon_2019_tables)\n",
    "# len(half_marathon_2019_tables)\n",
    "# half_marathon_2019_list = pd.read_html(str(half_marathon_2019_tables[0]))\n",
    "# len(half_marathon_2019_list)\n",
    "# type(half_marathon_2019_list)\n",
    "# half_marathon_2019 = half_marathon_2019_list[0]\n",
    "# half_marathon_2019.head(2)"
   ]
  },
  {
   "cell_type": "code",
   "execution_count": 23,
   "metadata": {},
   "outputs": [],
   "source": [
    "# for i in range(2,691):\n",
    "#     marathon_2019\n",
    "#     page_str = str(i)\n",
    "#     marathon_2019_url = 'https://www.runrocknroll.com/Events/Nashville/The-Races/Half-Marathon/2019-Results?gender=&agegroup=&bib=&firstname=&lastname=&page=' + page_str\n",
    "#     marathon_2019_response = requests.post(marathon_2019_url)\n",
    "#     marathon_2019_bs = BeautifulSoup(marathon_2019_response.content, 'lxml')\n",
    "#     marathon_2019_tables = marathon_2019_bs.find_all('table', attrs = {'class': 'table table-responsive table-bordered'})\n",
    "#     marathon_2019_list = pd.read_html(str(marathon_2019_tables[0]))\n",
    "#     marathon_2019_page = marathon_2019_list[0]\n",
    "#     marathon_2019 = marathon_2019.append(marathon_2019_page, ignore_index = True)\n",
    "# marathon_2019.head(2)"
   ]
  },
  {
   "cell_type": "markdown",
   "metadata": {},
   "source": [
    "## 2018 half marathon"
   ]
  },
  {
   "cell_type": "code",
   "execution_count": 21,
   "metadata": {},
   "outputs": [],
   "source": [
    "# half_marathon_2018 = 'https://www.runrocknroll.com/Events/Nashville/The-Races/Half-Marathon/2018-Results?gender=&agegroup=&bib=&firstname=&lastname=&page=1'\n",
    "# half_marathon_2018 = requests.post(half_marathon_2018)\n",
    "# half_marathon_2018.status_code\n",
    "# half_marathon_2018 = BeautifulSoup(half_marathon_2018.content, 'lxml')\n",
    "# print(half_marathon_2018.title)\n",
    "# half_marathon_2018_tables = half_marathon_2018.find_all('table', attrs = {'class': 'table table-responsive table-bordered'})\n",
    "# type(half_marathon_2018_tables)\n",
    "# len(half_marathon_2018_tables)\n",
    "# half_marathon_2018_list = pd.read_html(str(half_marathon_2018_tables[0])) # a list of dataframes\n",
    "# len(half_marathon_2018_list)\n",
    "# type(half_marathon_2018_list)\n",
    "# half_marathon_2018 = half_marathon_2018_list[0]  # get the first df from the list\n",
    "# half_marathon_2018.head(2)"
   ]
  },
  {
   "cell_type": "code",
   "execution_count": 20,
   "metadata": {},
   "outputs": [],
   "source": [
    "# for i in range(2,599):\n",
    "#     half_marathon_2018\n",
    "#     page_str = str(i)\n",
    "#     half_marathon_2018_url = 'https://www.runrocknroll.com/Events/Nashville/The-Races/Half-Marathon/2018-Results?gender=&agegroup=&bib=&firstname=&lastname=&page=' + page_str\n",
    "#     half_marathon_2018_response = requests.post(half_marathon_2018_url)\n",
    "#     half_marathon_2018_bs = BeautifulSoup(half_marathon_2018_response.content, 'lxml')\n",
    "#     half_marathon_2018_tables = half_marathon_2018_bs.find_all('table', attrs = {'class': 'table table-responsive table-bordered'})\n",
    "#     half_marathon_2018_list = pd.read_html(str(half_marathon_2018_tables[0]))\n",
    "#     half_marathon_2018_page = half_marathon_2018_list[0]\n",
    "#     half_marathon_2018 = half_marathon_2018.append(half_marathon_2018_page, ignore_index = True)\n",
    "# half_marathon_2018.head(2)"
   ]
  },
  {
   "cell_type": "markdown",
   "metadata": {},
   "source": [
    "## 2017 half marathon"
   ]
  },
  {
   "cell_type": "code",
   "execution_count": 19,
   "metadata": {},
   "outputs": [],
   "source": [
    "# half_marathon_2017 = 'https://www.runrocknroll.com/Events/Nashville/The-Races/Half-Marathon/2017-Results?gender=&agegroup=&bib=&firstname=&lastname=&page=1'\n",
    "# half_marathon_2017 = requests.post(half_marathon_2017)\n",
    "# half_marathon_2017.status_code\n",
    "# half_marathon_2017 = BeautifulSoup(half_marathon_2017.content, 'lxml')\n",
    "# print(half_marathon_2017.title)\n",
    "# half_marathon_2017_tables = half_marathon_2017.find_all('table', attrs = {'class': 'table table-responsive table-bordered'})\n",
    "# type(half_marathon_2017_tables)\n",
    "# len(half_marathon_2017_tables)\n",
    "# half_marathon_2017_list = pd.read_html(str(half_marathon_2017_tables[0])) # a list of dataframes\n",
    "# len(half_marathon_2017_list)\n",
    "# type(half_marathon_2017_list)\n",
    "# half_marathon_2017 = half_marathon_2017_list[0]  # get the first df from the list\n",
    "# half_marathon_2017.head(2)"
   ]
  },
  {
   "cell_type": "code",
   "execution_count": 16,
   "metadata": {},
   "outputs": [],
   "source": [
    "# for i in range(2,893):\n",
    "#     half_marathon_2017\n",
    "#     page_str = str(i)\n",
    "#     half_marathon_2017_url = 'https://www.runrocknroll.com/Events/Nashville/The-Races/Half-Marathon/2017-Results?gender=&agegroup=&bib=&firstname=&lastname=&page=' + page_str\n",
    "#     half_marathon_2017_response = requests.post(half_marathon_2017_url)\n",
    "#     half_marathon_2017_bs = BeautifulSoup(half_marathon_2017_response.content, 'lxml')\n",
    "#     half_marathon_2017_tables = half_marathon_2017_bs.find_all('table', attrs = {'class': 'table table-responsive table-bordered'})\n",
    "#     half_marathon_2017_list = pd.read_html(str(half_marathon_2017_tables[0]))\n",
    "#     half_marathon_2017_page = half_marathon_2017_list[0]\n",
    "#     half_marathon_2017 = half_marathon_2017.append(half_marathon_2017_page, ignore_index = True)\n",
    "# half_marathon_2017.head(2)"
   ]
  },
  {
   "cell_type": "markdown",
   "metadata": {},
   "source": [
    "## 2016 half marathon"
   ]
  },
  {
   "cell_type": "code",
   "execution_count": 17,
   "metadata": {},
   "outputs": [],
   "source": [
    "# half_marathon_2016 = 'https://www.runrocknroll.com/Events/Nashville/The-Races/Half-Marathon/2016-Results?gender=&agegroup=&bib=&firstname=&lastname=&page=1'\n",
    "# half_marathon_2016 = requests.post(half_marathon_2016)\n",
    "# half_marathon_2016.status_code\n",
    "# half_marathon_2016 = BeautifulSoup(half_marathon_2016.content, 'lxml')\n",
    "# print(half_marathon_2016.title)\n",
    "# half_marathon_2016_tables = half_marathon_2016.find_all('table', attrs = {'class': 'table table-responsive table-bordered'})\n",
    "# type(half_marathon_2016_tables)\n",
    "# len(half_marathon_2016_tables)\n",
    "# half_marathon_2016_list = pd.read_html(str(half_marathon_2016_tables[0])) # a list of dataframes\n",
    "# len(half_marathon_2016_list)\n",
    "# type(half_marathon_2016_list)\n",
    "# half_marathon_2016 = half_marathon_2016_list[0]  # get the first df from the list\n",
    "# half_marathon_2016.tail(2)"
   ]
  },
  {
   "cell_type": "code",
   "execution_count": 18,
   "metadata": {},
   "outputs": [],
   "source": [
    "# for i in range(2,899):\n",
    "#     half_marathon_2016\n",
    "#     page_str = str(i)\n",
    "#     half_marathon_2016_url = 'https://www.runrocknroll.com/Events/Nashville/The-Races/Half-Marathon/2016-Results?gender=&agegroup=&bib=&firstname=&lastname=&page=' + page_str\n",
    "#     half_marathon_2016_response = requests.post(half_marathon_2016_url)\n",
    "#     half_marathon_2016_bs = BeautifulSoup(half_marathon_2016_response.content, 'lxml')\n",
    "#     half_marathon_2016_tables = half_marathon_2016_bs.find_all('table', attrs = {'class': 'table table-responsive table-bordered'})\n",
    "#     half_marathon_2016_list = pd.read_html(str(half_marathon_2016_tables[0]))\n",
    "#     half_marathon_2016_page = half_marathon_2016_list[0]\n",
    "#     half_marathon_2016 = half_marathon_2016.append(half_marathon_2016_page, ignore_index = True)\n",
    "# half_marathon_2016.tail(2)"
   ]
  },
  {
   "cell_type": "code",
   "execution_count": 24,
   "metadata": {},
   "outputs": [],
   "source": [
    "# half_marathon_2019.head"
   ]
  },
  {
   "cell_type": "code",
   "execution_count": 25,
   "metadata": {},
   "outputs": [],
   "source": [
    "# half_marathon_2018.head"
   ]
  },
  {
   "cell_type": "code",
   "execution_count": 26,
   "metadata": {},
   "outputs": [],
   "source": [
    "# half_marathon_2017.head"
   ]
  },
  {
   "cell_type": "code",
   "execution_count": 27,
   "metadata": {},
   "outputs": [],
   "source": [
    "# half_marathon_2016.head"
   ]
  },
  {
   "cell_type": "code",
   "execution_count": 29,
   "metadata": {},
   "outputs": [
    {
     "data": {
      "text/html": [
       "<div>\n",
       "<style scoped>\n",
       "    .dataframe tbody tr th:only-of-type {\n",
       "        vertical-align: middle;\n",
       "    }\n",
       "\n",
       "    .dataframe tbody tr th {\n",
       "        vertical-align: top;\n",
       "    }\n",
       "\n",
       "    .dataframe thead th {\n",
       "        text-align: right;\n",
       "    }\n",
       "</style>\n",
       "<table border=\"1\" class=\"dataframe\">\n",
       "  <thead>\n",
       "    <tr style=\"text-align: right;\">\n",
       "      <th></th>\n",
       "      <th>Overall</th>\n",
       "      <th>Bib</th>\n",
       "      <th>Name</th>\n",
       "      <th>Time</th>\n",
       "    </tr>\n",
       "  </thead>\n",
       "  <tbody>\n",
       "    <tr>\n",
       "      <td>0</td>\n",
       "      <td>1</td>\n",
       "      <td>30001</td>\n",
       "      <td>Travis Peruski</td>\n",
       "      <td>01:37:54</td>\n",
       "    </tr>\n",
       "    <tr>\n",
       "      <td>1</td>\n",
       "      <td>2</td>\n",
       "      <td>1</td>\n",
       "      <td>Scott Wietecha</td>\n",
       "      <td>02:34:59</td>\n",
       "    </tr>\n",
       "    <tr>\n",
       "      <td>2</td>\n",
       "      <td>3</td>\n",
       "      <td>4</td>\n",
       "      <td>Jordan Wilson</td>\n",
       "      <td>02:35:24</td>\n",
       "    </tr>\n",
       "    <tr>\n",
       "      <td>3</td>\n",
       "      <td>4</td>\n",
       "      <td>30034</td>\n",
       "      <td>Steelton Flynn</td>\n",
       "      <td>02:39:59</td>\n",
       "    </tr>\n",
       "    <tr>\n",
       "      <td>4</td>\n",
       "      <td>5</td>\n",
       "      <td>30035</td>\n",
       "      <td>Thomas Ellis</td>\n",
       "      <td>02:42:09</td>\n",
       "    </tr>\n",
       "  </tbody>\n",
       "</table>\n",
       "</div>"
      ],
      "text/plain": [
       "   Overall    Bib            Name      Time\n",
       "0        1  30001  Travis Peruski  01:37:54\n",
       "1        2      1  Scott Wietecha  02:34:59\n",
       "2        3      4   Jordan Wilson  02:35:24\n",
       "3        4  30034  Steelton Flynn  02:39:59\n",
       "4        5  30035    Thomas Ellis  02:42:09"
      ]
     },
     "execution_count": 29,
     "metadata": {},
     "output_type": "execute_result"
    }
   ],
   "source": [
    "marathon_2019.head()"
   ]
  },
  {
   "cell_type": "code",
   "execution_count": 30,
   "metadata": {},
   "outputs": [
    {
     "data": {
      "text/html": [
       "<div>\n",
       "<style scoped>\n",
       "    .dataframe tbody tr th:only-of-type {\n",
       "        vertical-align: middle;\n",
       "    }\n",
       "\n",
       "    .dataframe tbody tr th {\n",
       "        vertical-align: top;\n",
       "    }\n",
       "\n",
       "    .dataframe thead th {\n",
       "        text-align: right;\n",
       "    }\n",
       "</style>\n",
       "<table border=\"1\" class=\"dataframe\">\n",
       "  <thead>\n",
       "    <tr style=\"text-align: right;\">\n",
       "      <th></th>\n",
       "      <th>Overall</th>\n",
       "      <th>Bib</th>\n",
       "      <th>Name</th>\n",
       "      <th>Time</th>\n",
       "    </tr>\n",
       "  </thead>\n",
       "  <tbody>\n",
       "    <tr>\n",
       "      <td>0</td>\n",
       "      <td>1</td>\n",
       "      <td>1</td>\n",
       "      <td>Scott Wietecha</td>\n",
       "      <td>02:28:16</td>\n",
       "    </tr>\n",
       "    <tr>\n",
       "      <td>1</td>\n",
       "      <td>2</td>\n",
       "      <td>3</td>\n",
       "      <td>Garang Madut</td>\n",
       "      <td>02:29:52</td>\n",
       "    </tr>\n",
       "    <tr>\n",
       "      <td>2</td>\n",
       "      <td>3</td>\n",
       "      <td>33442</td>\n",
       "      <td>Kevin Fink</td>\n",
       "      <td>02:38:59</td>\n",
       "    </tr>\n",
       "    <tr>\n",
       "      <td>3</td>\n",
       "      <td>4</td>\n",
       "      <td>33441</td>\n",
       "      <td>Andrew Hodges</td>\n",
       "      <td>02:43:59</td>\n",
       "    </tr>\n",
       "    <tr>\n",
       "      <td>4</td>\n",
       "      <td>5</td>\n",
       "      <td>30028</td>\n",
       "      <td>Nicholas Aubert</td>\n",
       "      <td>02:48:11</td>\n",
       "    </tr>\n",
       "  </tbody>\n",
       "</table>\n",
       "</div>"
      ],
      "text/plain": [
       "   Overall    Bib             Name      Time\n",
       "0        1      1   Scott Wietecha  02:28:16\n",
       "1        2      3     Garang Madut  02:29:52\n",
       "2        3  33442       Kevin Fink  02:38:59\n",
       "3        4  33441    Andrew Hodges  02:43:59\n",
       "4        5  30028  Nicholas Aubert  02:48:11"
      ]
     },
     "execution_count": 30,
     "metadata": {},
     "output_type": "execute_result"
    }
   ],
   "source": [
    "marathon_2018.head()"
   ]
  },
  {
   "cell_type": "code",
   "execution_count": 31,
   "metadata": {},
   "outputs": [
    {
     "data": {
      "text/html": [
       "<div>\n",
       "<style scoped>\n",
       "    .dataframe tbody tr th:only-of-type {\n",
       "        vertical-align: middle;\n",
       "    }\n",
       "\n",
       "    .dataframe tbody tr th {\n",
       "        vertical-align: top;\n",
       "    }\n",
       "\n",
       "    .dataframe thead th {\n",
       "        text-align: right;\n",
       "    }\n",
       "</style>\n",
       "<table border=\"1\" class=\"dataframe\">\n",
       "  <thead>\n",
       "    <tr style=\"text-align: right;\">\n",
       "      <th></th>\n",
       "      <th>Overall</th>\n",
       "      <th>Bib</th>\n",
       "      <th>Name</th>\n",
       "      <th>Time</th>\n",
       "    </tr>\n",
       "  </thead>\n",
       "  <tbody>\n",
       "    <tr>\n",
       "      <td>0</td>\n",
       "      <td>1</td>\n",
       "      <td>1</td>\n",
       "      <td>Scott Wietecha</td>\n",
       "      <td>02:40:25</td>\n",
       "    </tr>\n",
       "    <tr>\n",
       "      <td>1</td>\n",
       "      <td>2</td>\n",
       "      <td>1145</td>\n",
       "      <td>Ryan Regnier</td>\n",
       "      <td>02:56:28</td>\n",
       "    </tr>\n",
       "    <tr>\n",
       "      <td>2</td>\n",
       "      <td>3</td>\n",
       "      <td>1147</td>\n",
       "      <td>Daniel Everett</td>\n",
       "      <td>03:00:55</td>\n",
       "    </tr>\n",
       "    <tr>\n",
       "      <td>3</td>\n",
       "      <td>4</td>\n",
       "      <td>1029</td>\n",
       "      <td>Khris Vickroy</td>\n",
       "      <td>03:04:47</td>\n",
       "    </tr>\n",
       "    <tr>\n",
       "      <td>4</td>\n",
       "      <td>5</td>\n",
       "      <td>1119</td>\n",
       "      <td>Marcus Dilallo</td>\n",
       "      <td>03:04:53</td>\n",
       "    </tr>\n",
       "  </tbody>\n",
       "</table>\n",
       "</div>"
      ],
      "text/plain": [
       "   Overall   Bib            Name      Time\n",
       "0        1     1  Scott Wietecha  02:40:25\n",
       "1        2  1145    Ryan Regnier  02:56:28\n",
       "2        3  1147  Daniel Everett  03:00:55\n",
       "3        4  1029   Khris Vickroy  03:04:47\n",
       "4        5  1119  Marcus Dilallo  03:04:53"
      ]
     },
     "execution_count": 31,
     "metadata": {},
     "output_type": "execute_result"
    }
   ],
   "source": [
    "marathon_2017.head()"
   ]
  },
  {
   "cell_type": "code",
   "execution_count": 32,
   "metadata": {},
   "outputs": [
    {
     "data": {
      "text/html": [
       "<div>\n",
       "<style scoped>\n",
       "    .dataframe tbody tr th:only-of-type {\n",
       "        vertical-align: middle;\n",
       "    }\n",
       "\n",
       "    .dataframe tbody tr th {\n",
       "        vertical-align: top;\n",
       "    }\n",
       "\n",
       "    .dataframe thead th {\n",
       "        text-align: right;\n",
       "    }\n",
       "</style>\n",
       "<table border=\"1\" class=\"dataframe\">\n",
       "  <thead>\n",
       "    <tr style=\"text-align: right;\">\n",
       "      <th></th>\n",
       "      <th>Overall</th>\n",
       "      <th>Bib</th>\n",
       "      <th>Name</th>\n",
       "      <th>Time</th>\n",
       "    </tr>\n",
       "  </thead>\n",
       "  <tbody>\n",
       "    <tr>\n",
       "      <td>0</td>\n",
       "      <td>1</td>\n",
       "      <td>1</td>\n",
       "      <td>Scott Wietecha</td>\n",
       "      <td>02:25:42</td>\n",
       "    </tr>\n",
       "    <tr>\n",
       "      <td>1</td>\n",
       "      <td>2</td>\n",
       "      <td>3</td>\n",
       "      <td>Brian Shelton</td>\n",
       "      <td>02:34:43</td>\n",
       "    </tr>\n",
       "    <tr>\n",
       "      <td>2</td>\n",
       "      <td>3</td>\n",
       "      <td>1047</td>\n",
       "      <td>Christopher Capps</td>\n",
       "      <td>02:38:43</td>\n",
       "    </tr>\n",
       "    <tr>\n",
       "      <td>3</td>\n",
       "      <td>4</td>\n",
       "      <td>1052</td>\n",
       "      <td>Jason Grimes</td>\n",
       "      <td>02:45:06</td>\n",
       "    </tr>\n",
       "    <tr>\n",
       "      <td>4</td>\n",
       "      <td>5</td>\n",
       "      <td>1046</td>\n",
       "      <td>David Adams</td>\n",
       "      <td>02:47:28</td>\n",
       "    </tr>\n",
       "  </tbody>\n",
       "</table>\n",
       "</div>"
      ],
      "text/plain": [
       "  Overall   Bib               Name      Time\n",
       "0       1     1     Scott Wietecha  02:25:42\n",
       "1       2     3      Brian Shelton  02:34:43\n",
       "2       3  1047  Christopher Capps  02:38:43\n",
       "3       4  1052       Jason Grimes  02:45:06\n",
       "4       5  1046        David Adams  02:47:28"
      ]
     },
     "execution_count": 32,
     "metadata": {},
     "output_type": "execute_result"
    }
   ],
   "source": [
    "marathon_2016.head()"
   ]
  },
  {
   "cell_type": "code",
   "execution_count": 130,
   "metadata": {},
   "outputs": [
    {
     "data": {
      "text/html": [
       "<div>\n",
       "<style scoped>\n",
       "    .dataframe tbody tr th:only-of-type {\n",
       "        vertical-align: middle;\n",
       "    }\n",
       "\n",
       "    .dataframe tbody tr th {\n",
       "        vertical-align: top;\n",
       "    }\n",
       "\n",
       "    .dataframe thead th {\n",
       "        text-align: right;\n",
       "    }\n",
       "</style>\n",
       "<table border=\"1\" class=\"dataframe\">\n",
       "  <thead>\n",
       "    <tr style=\"text-align: right;\">\n",
       "      <th></th>\n",
       "      <th>Overall</th>\n",
       "      <th>Name</th>\n",
       "      <th>Time</th>\n",
       "      <th>Year</th>\n",
       "    </tr>\n",
       "  </thead>\n",
       "  <tbody>\n",
       "    <tr>\n",
       "      <td>0</td>\n",
       "      <td>1</td>\n",
       "      <td>Scott Wietecha</td>\n",
       "      <td>2:25:27</td>\n",
       "      <td>2016</td>\n",
       "    </tr>\n",
       "    <tr>\n",
       "      <td>1</td>\n",
       "      <td>1</td>\n",
       "      <td>Scott Wietecha</td>\n",
       "      <td>2:40:25</td>\n",
       "      <td>2017</td>\n",
       "    </tr>\n",
       "    <tr>\n",
       "      <td>2</td>\n",
       "      <td>1</td>\n",
       "      <td>Scott Wietecha</td>\n",
       "      <td>2:28:16</td>\n",
       "      <td>2018</td>\n",
       "    </tr>\n",
       "  </tbody>\n",
       "</table>\n",
       "</div>"
      ],
      "text/plain": [
       "   Overall            Name     Time  Year\n",
       "0        1  Scott Wietecha  2:25:27  2016\n",
       "1        1  Scott Wietecha  2:40:25  2017\n",
       "2        1  Scott Wietecha  2:28:16  2018"
      ]
     },
     "execution_count": 130,
     "metadata": {},
     "output_type": "execute_result"
    }
   ],
   "source": [
    "wietecha = {'Name': ['Scott Wietecha', 'Scott Wietecha', 'Scott Wietecha'],\n",
    "        'Overall': [1, 1, 1],\n",
    "        'Time': ['2:25:27', '2:40:25', '2:28:16'],\n",
    "        'Year': [2016, 2017, 2018]}\n",
    "\n",
    "wietecha = pd.DataFrame(wietecha, columns = ['Overall', 'Name', 'Time', 'Year'])\n",
    "wietecha"
   ]
  },
  {
   "cell_type": "code",
   "execution_count": 131,
   "metadata": {},
   "outputs": [
    {
     "data": {
      "text/html": [
       "<div>\n",
       "<style scoped>\n",
       "    .dataframe tbody tr th:only-of-type {\n",
       "        vertical-align: middle;\n",
       "    }\n",
       "\n",
       "    .dataframe tbody tr th {\n",
       "        vertical-align: top;\n",
       "    }\n",
       "\n",
       "    .dataframe thead th {\n",
       "        text-align: right;\n",
       "    }\n",
       "</style>\n",
       "<table border=\"1\" class=\"dataframe\">\n",
       "  <thead>\n",
       "    <tr style=\"text-align: right;\">\n",
       "      <th></th>\n",
       "      <th>Overall</th>\n",
       "      <th>Name</th>\n",
       "      <th>Time</th>\n",
       "      <th>Year</th>\n",
       "    </tr>\n",
       "  </thead>\n",
       "  <tbody>\n",
       "    <tr>\n",
       "      <td>0</td>\n",
       "      <td>2106</td>\n",
       "      <td>Theresa Khayyam</td>\n",
       "      <td>6:51:56</td>\n",
       "      <td>2016</td>\n",
       "    </tr>\n",
       "    <tr>\n",
       "      <td>1</td>\n",
       "      <td>2221</td>\n",
       "      <td>Theresa Khayyam</td>\n",
       "      <td>5:41:21</td>\n",
       "      <td>2017</td>\n",
       "    </tr>\n",
       "    <tr>\n",
       "      <td>2</td>\n",
       "      <td>2106</td>\n",
       "      <td>Theresa Khayyam</td>\n",
       "      <td>6:51:56</td>\n",
       "      <td>2018</td>\n",
       "    </tr>\n",
       "  </tbody>\n",
       "</table>\n",
       "</div>"
      ],
      "text/plain": [
       "   Overall             Name     Time  Year\n",
       "0     2106  Theresa Khayyam  6:51:56  2016\n",
       "1     2221  Theresa Khayyam  5:41:21  2017\n",
       "2     2106  Theresa Khayyam  6:51:56  2018"
      ]
     },
     "execution_count": 131,
     "metadata": {},
     "output_type": "execute_result"
    }
   ],
   "source": [
    "khayyam = {'Name': ['Theresa Khayyam', 'Theresa Khayyam', 'Theresa Khayyam'],\n",
    "        'Overall': [2106, 2221, 2106],\n",
    "        'Time': ['6:51:56', '5:41:21', '6:51:56'],\n",
    "        'Year': [2016, 2017, 2018]}\n",
    "\n",
    "khayyam = pd.DataFrame(khayyam, columns = ['Overall', 'Name', 'Time', 'Year'])\n",
    "khayyam"
   ]
  },
  {
   "cell_type": "code",
   "execution_count": null,
   "metadata": {},
   "outputs": [],
   "source": []
  }
 ],
 "metadata": {
  "kernelspec": {
   "display_name": "Python 3",
   "language": "python",
   "name": "python3"
  },
  "language_info": {
   "codemirror_mode": {
    "name": "ipython",
    "version": 3
   },
   "file_extension": ".py",
   "mimetype": "text/x-python",
   "name": "python",
   "nbconvert_exporter": "python",
   "pygments_lexer": "ipython3",
   "version": "3.8.5"
  }
 },
 "nbformat": 4,
 "nbformat_minor": 2
}
